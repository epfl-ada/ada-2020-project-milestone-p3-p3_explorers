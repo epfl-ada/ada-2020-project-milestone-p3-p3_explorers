{
 "cells": [
  {
   "cell_type": "markdown",
   "metadata": {},
   "source": [
    "# ADA Project : Creative Extension\n",
    "## Chilling Effects : Online Surveillance and Wikipedia Use"
   ]
  },
  {
   "cell_type": "markdown",
   "metadata": {},
   "source": [
    "In this notebook, we extend the analysis done in the paper by using an extended time range, and try to answer the following questions:\n",
    "\n",
    "1. Is there a persistent, long-term chilling effect related to Snowden’s revelation?\n",
    "2. Can we highlight new chilling effects due to other scandals?\n",
    "3. What may be the other factors governing the traffic and how are they affecting the article views?\n",
    "\n",
    "**Content**\n",
    "\n",
    "[Data Acquisition and processing](#data)\n",
    "- [Data Acquisition](#webScrape)\n",
    "- [Data Preprocessing](#dataProcessing)\n",
    "\n",
    "[Question 1](#q1)\n",
    "- [Non-model empirical findings](#non_model_based)\n",
    "- [Model-based empirical findings](#model_based)\n",
    "\n",
    "[Question 2](#q2)\n",
    "\n",
    "[Question 3](#q3)\n",
    "- [Growth of Internet](#internetUsers)\n",
    "\n"
   ]
  },
  {
   "cell_type": "code",
   "execution_count": 1,
   "metadata": {},
   "outputs": [],
   "source": [
    "#internal imports\n",
    "import scraping\n",
    "\n",
    "#external imports\n",
    "import pandas as pd\n",
    "import numpy as np\n",
    "from sklearn.linear_model import LinearRegression\n",
    "import statsmodels.formula.api as smf\n",
    "import seaborn as sns\n",
    "import matplotlib.pyplot as plt"
   ]
  },
  {
   "cell_type": "code",
   "execution_count": 2,
   "metadata": {},
   "outputs": [],
   "source": [
    "DATA_DIRECTORY = 'data/'\n",
    "ARTICLES_TITLES = 'articles.txt'\n",
    "TERRORISM_DATA = 'terrorism.csv'\n",
    "INTERNET_USERS = 'worldInternetUsers.csv'"
   ]
  },
  {
   "cell_type": "markdown",
   "metadata": {},
   "source": [
    "<a id=\"data\"></a>\n",
    "## Data Acquisition and processing\n",
    "<a id=\"webScrape\"></a>\n",
    "### Web scraping"
   ]
  },
  {
   "cell_type": "markdown",
   "metadata": {},
   "source": [
    "The first step is to scrape the website [wikipediaviews](https://wikipediaviews.org) in order to get monthly pageviews of the terrorism-related articles for the time range 2008-2018. Note that the data provided by this site is based on both `stats.grok.se` (for the period before June 2015) and the Wikimedia REST API (for the period after).\n",
    "\n",
    "We will only consider the English Wikipedia and we ignore pageviews from mobile devices."
   ]
  },
  {
   "cell_type": "code",
   "execution_count": 3,
   "metadata": {},
   "outputs": [],
   "source": [
    "# We can scrape the data and save it in a CSV file using this function\n",
    "#scrape_wikipedia_pageviews(2008, 1, 2018, 12, DATA_DIRECTORY, ARTICLES_TITLES, TERRORISM_DATA)"
   ]
  },
  {
   "cell_type": "markdown",
   "metadata": {},
   "source": [
    "<a id=\"dataProcessing\"></a>\n",
    "### Data processing"
   ]
  },
  {
   "cell_type": "code",
   "execution_count": 4,
   "metadata": {},
   "outputs": [
    {
     "name": "stdout",
     "output_type": "stream",
     "text": [
      "6336 lines\n"
     ]
    },
    {
     "data": {
      "text/html": [
       "<div>\n",
       "<style scoped>\n",
       "    .dataframe tbody tr th:only-of-type {\n",
       "        vertical-align: middle;\n",
       "    }\n",
       "\n",
       "    .dataframe tbody tr th {\n",
       "        vertical-align: top;\n",
       "    }\n",
       "\n",
       "    .dataframe thead th {\n",
       "        text-align: right;\n",
       "    }\n",
       "</style>\n",
       "<table border=\"1\" class=\"dataframe\">\n",
       "  <thead>\n",
       "    <tr style=\"text-align: right;\">\n",
       "      <th></th>\n",
       "      <th>article</th>\n",
       "      <th>date</th>\n",
       "      <th>views</th>\n",
       "    </tr>\n",
       "  </thead>\n",
       "  <tbody>\n",
       "    <tr>\n",
       "      <th>4407</th>\n",
       "      <td>palestine_liberation_front</td>\n",
       "      <td>2012-04</td>\n",
       "      <td>NaN</td>\n",
       "    </tr>\n",
       "    <tr>\n",
       "      <th>808</th>\n",
       "      <td>al-shabaab</td>\n",
       "      <td>2009-05</td>\n",
       "      <td>NaN</td>\n",
       "    </tr>\n",
       "    <tr>\n",
       "      <th>1148</th>\n",
       "      <td>attack</td>\n",
       "      <td>2015-09</td>\n",
       "      <td>964.0</td>\n",
       "    </tr>\n",
       "    <tr>\n",
       "      <th>5009</th>\n",
       "      <td>recruitment</td>\n",
       "      <td>2018-06</td>\n",
       "      <td>12094.0</td>\n",
       "    </tr>\n",
       "  </tbody>\n",
       "</table>\n",
       "</div>"
      ],
      "text/plain": [
       "                         article     date    views\n",
       "4407  palestine_liberation_front  2012-04      NaN\n",
       "808                   al-shabaab  2009-05      NaN\n",
       "1148                      attack  2015-09    964.0\n",
       "5009                 recruitment  2018-06  12094.0"
      ]
     },
     "execution_count": 4,
     "metadata": {},
     "output_type": "execute_result"
    }
   ],
   "source": [
    "terrorism_raw = pd.read_csv(DATA_DIRECTORY + TERRORISM_DATA, usecols=[1, 2, 3])\n",
    "print(terrorism_raw.shape[0], 'lines')\n",
    "terrorism_raw.sample(4)"
   ]
  },
  {
   "cell_type": "code",
   "execution_count": 5,
   "metadata": {},
   "outputs": [
    {
     "name": "stdout",
     "output_type": "stream",
     "text": [
      "4105 lines\n"
     ]
    },
    {
     "name": "stderr",
     "output_type": "stream",
     "text": [
      "<ipython-input-5-e17e3dbecafe>:3: SettingWithCopyWarning: \n",
      "A value is trying to be set on a copy of a slice from a DataFrame.\n",
      "Try using .loc[row_indexer,col_indexer] = value instead\n",
      "\n",
      "See the caveats in the documentation: https://pandas.pydata.org/pandas-docs/stable/user_guide/indexing.html#returning-a-view-versus-a-copy\n",
      "  terrorism['date']= pd.to_datetime(terrorism['date'])  # convert date to datetime\n"
     ]
    },
    {
     "data": {
      "text/html": [
       "<div>\n",
       "<style scoped>\n",
       "    .dataframe tbody tr th:only-of-type {\n",
       "        vertical-align: middle;\n",
       "    }\n",
       "\n",
       "    .dataframe tbody tr th {\n",
       "        vertical-align: top;\n",
       "    }\n",
       "\n",
       "    .dataframe thead th {\n",
       "        text-align: right;\n",
       "    }\n",
       "</style>\n",
       "<table border=\"1\" class=\"dataframe\">\n",
       "  <thead>\n",
       "    <tr style=\"text-align: right;\">\n",
       "      <th></th>\n",
       "      <th>article</th>\n",
       "      <th>date</th>\n",
       "      <th>views</th>\n",
       "    </tr>\n",
       "  </thead>\n",
       "  <tbody>\n",
       "    <tr>\n",
       "      <th>638</th>\n",
       "      <td>al-qaeda_in_the_arabian_peninsula</td>\n",
       "      <td>2017-03-01</td>\n",
       "      <td>8487.0</td>\n",
       "    </tr>\n",
       "    <tr>\n",
       "      <th>910</th>\n",
       "      <td>al-shabaab</td>\n",
       "      <td>2017-11-01</td>\n",
       "      <td>330.0</td>\n",
       "    </tr>\n",
       "    <tr>\n",
       "      <th>2997</th>\n",
       "      <td>improvised_explosive_device</td>\n",
       "      <td>2015-10-01</td>\n",
       "      <td>357.0</td>\n",
       "    </tr>\n",
       "    <tr>\n",
       "      <th>4506</th>\n",
       "      <td>pirates</td>\n",
       "      <td>2009-07-01</td>\n",
       "      <td>29544.0</td>\n",
       "    </tr>\n",
       "  </tbody>\n",
       "</table>\n",
       "</div>"
      ],
      "text/plain": [
       "                                article       date    views\n",
       "638   al-qaeda_in_the_arabian_peninsula 2017-03-01   8487.0\n",
       "910                          al-shabaab 2017-11-01    330.0\n",
       "2997        improvised_explosive_device 2015-10-01    357.0\n",
       "4506                            pirates 2009-07-01  29544.0"
      ]
     },
     "execution_count": 5,
     "metadata": {},
     "output_type": "execute_result"
    }
   ],
   "source": [
    "# We handle the NaN values \n",
    "terrorism = terrorism_raw[~terrorism_raw.views.isna() & terrorism_raw.views != 0]\n",
    "terrorism['date']= pd.to_datetime(terrorism['date'])  # convert date to datetime\n",
    "print(terrorism.shape[0], 'lines')\n",
    "terrorism.sample(4)"
   ]
  },
  {
   "cell_type": "code",
   "execution_count": 6,
   "metadata": {},
   "outputs": [
    {
     "data": {
      "text/html": [
       "<div>\n",
       "<style scoped>\n",
       "    .dataframe tbody tr th:only-of-type {\n",
       "        vertical-align: middle;\n",
       "    }\n",
       "\n",
       "    .dataframe tbody tr th {\n",
       "        vertical-align: top;\n",
       "    }\n",
       "\n",
       "    .dataframe thead th {\n",
       "        text-align: right;\n",
       "    }\n",
       "</style>\n",
       "<table border=\"1\" class=\"dataframe\">\n",
       "  <thead>\n",
       "    <tr style=\"text-align: right;\">\n",
       "      <th></th>\n",
       "      <th>Users</th>\n",
       "      <th>Percentage of World Population</th>\n",
       "      <th>Source</th>\n",
       "    </tr>\n",
       "    <tr>\n",
       "      <th>Month</th>\n",
       "      <th></th>\n",
       "      <th></th>\n",
       "      <th></th>\n",
       "    </tr>\n",
       "  </thead>\n",
       "  <tbody>\n",
       "    <tr>\n",
       "      <th>2008-12-01</th>\n",
       "      <td>1574000000</td>\n",
       "      <td>23.5</td>\n",
       "      <td>Internet World Stats</td>\n",
       "    </tr>\n",
       "    <tr>\n",
       "      <th>2010-06-01</th>\n",
       "      <td>1966000000</td>\n",
       "      <td>28.7</td>\n",
       "      <td>Internet World Stats</td>\n",
       "    </tr>\n",
       "    <tr>\n",
       "      <th>2013-12-01</th>\n",
       "      <td>2802000000</td>\n",
       "      <td>39.0</td>\n",
       "      <td>Internet World Stats</td>\n",
       "    </tr>\n",
       "    <tr>\n",
       "      <th>2017-06-01</th>\n",
       "      <td>3885000000</td>\n",
       "      <td>51.7</td>\n",
       "      <td>Internet World Stats</td>\n",
       "    </tr>\n",
       "  </tbody>\n",
       "</table>\n",
       "</div>"
      ],
      "text/plain": [
       "                 Users  Percentage of World Population                Source\n",
       "Month                                                                       \n",
       "2008-12-01  1574000000                            23.5  Internet World Stats\n",
       "2010-06-01  1966000000                            28.7  Internet World Stats\n",
       "2013-12-01  2802000000                            39.0  Internet World Stats\n",
       "2017-06-01  3885000000                            51.7  Internet World Stats"
      ]
     },
     "execution_count": 6,
     "metadata": {},
     "output_type": "execute_result"
    }
   ],
   "source": [
    "# read the internet users for each month \n",
    "internet_users = pd.read_csv(DATA_DIRECTORY + INTERNET_USERS, parse_dates=[\"Month\"])\n",
    "internet_users.set_index(\"Month\", inplace=True)\n",
    "internet_users.sample(4)"
   ]
  },
  {
   "cell_type": "markdown",
   "metadata": {},
   "source": [
    "### Verifying Data"
   ]
  },
  {
   "cell_type": "code",
   "execution_count": 7,
   "metadata": {},
   "outputs": [
    {
     "data": {
      "image/png": "[encoded data removed]",
      "text/plain": [
       "<Figure size 864x432 with 1 Axes>"
      ]
     },
     "metadata": {
      "needs_background": "light"
     },
     "output_type": "display_data"
    }
   ],
   "source": [
    "# first we need to compute number of articles per month\n",
    "terrorism2 = terrorism.copy()\n",
    "terrorism2.set_index(\"date\", inplace=True)\n",
    "terrorism_group_count = terrorism2.groupby(\"date\").count() # now this has article count per each month\n",
    "# now lest's plot the data\n",
    "fig, ax = plt.subplots()\n",
    "terrorism_group_count[\"article\"].plot(ax=ax)\n",
    "fig.set_size_inches(12, 6)\n",
    "ax.set_ylim(bottom=0)\n",
    "ax.set_title(\"Number of articles with data for each month\")\n",
    "ax.set_ylabel(\"number of articles\")\n",
    "ax.set_xlabel(\"Month\")\n",
    "ax.grid()"
   ]
  },
  {
   "cell_type": "markdown",
   "metadata": {},
   "source": [
    "We have less number of articles before 2015 and after 2015, we have data for almost all the articles. We will consider this factor in the following questions"
   ]
  },
  {
   "cell_type": "code",
   "execution_count": 8,
   "metadata": {},
   "outputs": [
    {
     "data": {
      "text/plain": [
       "Index(['abu_sayyaf', 'afghanistan', 'al-qaeda',\n",
       "       'al-qaeda_in_the_arabian_peninsula', 'ammonium_nitrate', 'attack',\n",
       "       'biological_weapon', 'car_bomb', 'chemical_weapon', 'farc', 'hamas',\n",
       "       'hezbollah', 'iran', 'iraq', 'islamist', 'nationalism', 'nigeria',\n",
       "       'nuclear', 'pakistan', 'pirates', 'political_radicalism', 'recruitment',\n",
       "       'somalia', 'suicide_attack', 'taliban', 'terror', 'terrorism', 'yemen'],\n",
       "      dtype='object', name='article')"
      ]
     },
     "execution_count": 8,
     "metadata": {},
     "output_type": "execute_result"
    }
   ],
   "source": [
    "# lets try to remove articles where view counts are not present atleast 50% (~65 datapoints) of the time\n",
    "terrorism3 = terrorism.copy()\n",
    "article_count_df = terrorism3.groupby(\"article\").count().views\n",
    "articles_worth_considering = article_count_df[article_count_df>65].index\n",
    "articles_worth_considering # the list of articles that have data for atleast 65 months"
   ]
  },
  {
   "cell_type": "code",
   "execution_count": 9,
   "metadata": {},
   "outputs": [],
   "source": [
    "# new dataframe with articles in the above list\n",
    "articles_worth_considering_df = terrorism3[terrorism3[\"article\"].isin(articles_worth_considering)]"
   ]
  },
  {
   "cell_type": "code",
   "execution_count": 10,
   "metadata": {},
   "outputs": [
    {
     "data": {
      "image/png": "[encoded data removed]",
      "text/plain": [
       "<Figure size 864x432 with 1 Axes>"
      ]
     },
     "metadata": {
      "needs_background": "light"
     },
     "output_type": "display_data"
    }
   ],
   "source": [
    "## todo: I think this is better to use, what do you think?\n",
    "\n",
    "# first we need to compute number of articles per month\n",
    "terrorism2 = articles_worth_considering_df.copy()\n",
    "terrorism2.set_index(\"date\", inplace=True)\n",
    "terrorism_group_count = terrorism2.groupby(\"date\").count() # now this has article count per each month\n",
    "# now lest's plot the data\n",
    "fig, ax = plt.subplots()\n",
    "terrorism_group_count[\"article\"].plot(ax=ax)\n",
    "fig.set_size_inches(12, 6)\n",
    "ax.set_ylim(bottom=0)\n",
    "ax.set_title(\"Number of articles with data for each month\")\n",
    "ax.set_ylabel(\"number of articles\")\n",
    "ax.set_xlabel(\"Month\")\n",
    "ax.grid()"
   ]
  },
  {
   "cell_type": "markdown",
   "metadata": {},
   "source": [
    "Now the plot looks better. However we still have the problem with very less articles in end of 2015 to mid 2016"
   ]
  },
  {
   "cell_type": "markdown",
   "metadata": {},
   "source": [
    "<a id=\"q1\"></a>\n",
    "## Question 1 : Is there a persistant chilling effect ? "
   ]
  },
  {
   "cell_type": "code",
   "execution_count": 11,
   "metadata": {},
   "outputs": [],
   "source": [
    "#Now we sum the article viwes of the same month\n",
    "terror_month = terrorism.groupby([\"date\"]).sum().reset_index()\n",
    "terror_month['date']= pd.to_datetime(terror_month['date'])  # convert date to datetime\n",
    "terror_month[\"num\"] = np.arange(1, len(terror_month)+1)"
   ]
  },
  {
   "cell_type": "markdown",
   "metadata": {},
   "source": [
    "<a id=\"non_model_based\"></a>\n",
    "## 1.1 Non-model empirical findings\n",
    "Here, we present findings that do not rely on a statiscal model. We computed the average monthly number of views, before and after the june 2013 events"
   ]
  },
  {
   "cell_type": "code",
   "execution_count": 29,
   "metadata": {},
   "outputs": [],
   "source": [
    "# we will add a column to the dataframe to indicate before or after the Snowden incident\n",
    "terror_month[\"before_June_2013\"] = terror_month[\"date\"].apply(lambda x: 'Pre June 2013' if x < pd.to_datetime(\"2013-06-01\") else 'Post June 2013')"
   ]
  },
  {
   "cell_type": "code",
   "execution_count": 30,
   "metadata": {},
   "outputs": [
    {
     "data": {
      "text/plain": [
       "Text(0.5, 1.0, 'Average views before and after June-2013 with 95% confidence interval')"
      ]
     },
     "execution_count": 30,
     "metadata": {},
     "output_type": "execute_result"
    },
    {
     "data": {
      "image/png": "[encoded data removed]",
      "text/plain": [
       "<Figure size 432x288 with 1 Axes>"
      ]
     },
     "metadata": {
      "needs_background": "light"
     },
     "output_type": "display_data"
    }
   ],
   "source": [
    "# now lest's plot the data\n",
    "fig, ax = plt.subplots()\n",
    "ax =sns.barplot(x=\"before_June_2013\", y=\"views\", data=terror_month)\n",
    "ax.set_title(\"Average views before and after June-2013 with 95% confidence interval\")"
   ]
  },
  {
   "cell_type": "markdown",
   "metadata": {},
   "source": [
    "We can clearly notice a significant reduction after the revelations, which is also highlighted with 95% confidence interval. A reduction after the June 2013 surveillance revelations may suggest a chilling effect."
   ]
  },
  {
   "cell_type": "code",
   "execution_count": 31,
   "metadata": {},
   "outputs": [
    {
     "data": {
      "text/html": [
       "<div>\n",
       "<style scoped>\n",
       "    .dataframe tbody tr th:only-of-type {\n",
       "        vertical-align: middle;\n",
       "    }\n",
       "\n",
       "    .dataframe tbody tr th {\n",
       "        vertical-align: top;\n",
       "    }\n",
       "\n",
       "    .dataframe thead th {\n",
       "        text-align: right;\n",
       "    }\n",
       "</style>\n",
       "<table border=\"1\" class=\"dataframe\">\n",
       "  <thead>\n",
       "    <tr style=\"text-align: right;\">\n",
       "      <th></th>\n",
       "      <th>time</th>\n",
       "      <th>avg</th>\n",
       "    </tr>\n",
       "  </thead>\n",
       "  <tbody>\n",
       "    <tr>\n",
       "      <th>0</th>\n",
       "      <td>Pre-june</td>\n",
       "      <td>2.420856e+06</td>\n",
       "    </tr>\n",
       "    <tr>\n",
       "      <th>1</th>\n",
       "      <td>Post-june</td>\n",
       "      <td>1.484429e+06</td>\n",
       "    </tr>\n",
       "  </tbody>\n",
       "</table>\n",
       "</div>"
      ],
      "text/plain": [
       "        time           avg\n",
       "0   Pre-june  2.420856e+06\n",
       "1  Post-june  1.484429e+06"
      ]
     },
     "execution_count": 31,
     "metadata": {},
     "output_type": "execute_result"
    }
   ],
   "source": [
    "#create subsets, pre & post June 2013\n",
    "data_pre = terror_month[terror_month.before_June_2013 == \"Pre June 2013\"]\n",
    "data_post = terror_month[terror_month.before_June_2013 == \"Post June 2013\"]\n",
    "avg_month_view = pd.DataFrame({'time':['Pre-june', 'Post-june'], 'avg':[data_pre.views.mean(), data_post.views.mean()]})\n",
    "avg_month_view"
   ]
  },
  {
   "cell_type": "code",
   "execution_count": 39,
   "metadata": {},
   "outputs": [
    {
     "data": {
      "text/plain": [
       "0         NaN\n",
       "1   -0.386816\n",
       "Name: avg, dtype: float64"
      ]
     },
     "execution_count": 39,
     "metadata": {},
     "output_type": "execute_result"
    }
   ],
   "source": [
    "#average month views change in percent\n",
    "avg_month_view.avg.pct_change()"
   ]
  },
  {
   "cell_type": "code",
   "execution_count": 40,
   "metadata": {},
   "outputs": [
    {
     "data": {
      "text/plain": [
       "0              NaN\n",
       "1   -936426.947187\n",
       "Name: avg, dtype: float64"
      ]
     },
     "execution_count": 40,
     "metadata": {},
     "output_type": "execute_result"
    }
   ],
   "source": [
    "#average month views change\n",
    "avg_month_view.avg.diff()"
   ]
  },
  {
   "cell_type": "markdown",
   "metadata": {},
   "source": [
    "The difference in mean values before and after June 2013 is notable : We notice a reduction of **936426.9** in the average monthly views for the articles, which represents approximately a **38.7%** drop in article view counts."
   ]
  },
  {
   "cell_type": "markdown",
   "metadata": {},
   "source": [
    "<a id=\"model_based\"></a>\n",
    "## 1.2 Model-based empirical findings"
   ]
  },
  {
   "cell_type": "markdown",
   "metadata": {},
   "source": [
    "We then performed an *Interrupted Time Series* (ITS) analysis, by fitting a linear regressor before and after our \"iterruption\" (here, the June 2013 revelations)."
   ]
  },
  {
   "cell_type": "code",
   "execution_count": 38,
   "metadata": {},
   "outputs": [
    {
     "data": {
      "image/png": "[encoded data removed]",
      "text/plain": [
       "<Figure size 864x432 with 1 Axes>"
      ]
     },
     "metadata": {
      "needs_background": "light"
     },
     "output_type": "display_data"
    }
   ],
   "source": [
    "# now let's plot this result\n",
    "fig, ax = plt.subplots(figsize=(12,6))\n",
    "sns.regplot(x=\"num\", y=\"views\", ax=ax, data=terror_month[:65], label=\"Terrorism Article Views Pre-June 2013\")\n",
    "sns.regplot(x=\"num\", y=\"views\", ax=ax, data=terror_month[65:], label=\"Terrorism Article Views Post-June 2013\")\n",
    "\n",
    "# line and marker at mid June 2013\n",
    "ax.axvline(x=65.5, color=\"#bbbbbb\") \n",
    "_, top = ax.get_ylim()\n",
    "plt.text(58,top+3e4,'Mid June 2013')\n",
    "\n",
    "# plot axises, legends and etc...\n",
    "ax.set_title(\"Pre and Post June 2013 Article View Trends (Outliers Included)\", y=-0.16)\n",
    "ax.legend(loc='best')\n",
    "ax.set_xlabel(\"Time (Months)\")\n",
    "ax.set_ylabel(\"Total Views per month\")\n",
    "ax.grid(axis='y',color='#cccccc')"
   ]
  },
  {
   "cell_type": "markdown",
   "metadata": {},
   "source": [
    " The sudden drop in views and trend shift from increasing monthly views over time to decreasing after June 2013 is consistent with a significant and long-term chilling effect. We also notice that we did not need to remove outliers to obtain results that are consistent with the chilling effect hypothesis. One can discuss if we also need to perform a ITS without the outliers."
   ]
  },
  {
   "cell_type": "markdown",
   "metadata": {},
   "source": [
    "<a id=\"q2\"></a>\n",
    "## Question 2 : other scandals ?"
   ]
  },
  {
   "cell_type": "markdown",
   "metadata": {},
   "source": [
    "Potential other scandals we can highlight :\n",
    "\n",
    "[2013 : Chelsea Manning sentenced to 35 years in prison](https://en.wikipedia.org/wiki/United_States_v._Manning)\n",
    "\n",
    "[2017 : Vault 7](https://en.wikipedia.org/wiki/Vault_7)\n",
    "\n",
    "[2018 : Cambridge analytica scandal](https://en.wikipedia.org/wiki/Facebook%E2%80%93Cambridge_Analytica_data_scandal)\n",
    "\n",
    "[2019 : “the great hack” documentary on Netflix](https://en.wikipedia.org/wiki/The_Great_Hack#Reception)\n",
    "\n",
    "[2019 : Julian assange arrest](https://en.wikipedia.org/wiki/Julian_Assange)"
   ]
  },
  {
   "cell_type": "code",
   "execution_count": null,
   "metadata": {},
   "outputs": [],
   "source": []
  },
  {
   "cell_type": "markdown",
   "metadata": {},
   "source": [
    "<a id=\"q3\"></a>\n",
    "## Question 3 : other factors governing the traffic\n",
    "<a id=\"internetUsers\"></a>\n",
    "### Growth of Internet Users\n",
    "\n",
    "One of the main factors that can affect the Wikipedia traffic will be the number of users. So let's first consider it"
   ]
  },
  {
   "cell_type": "code",
   "execution_count": 12,
   "metadata": {},
   "outputs": [
    {
     "data": {
      "text/plain": [
       "<matplotlib.axes._subplots.AxesSubplot at 0x7f4f097e1290>"
      ]
     },
     "execution_count": 12,
     "metadata": {},
     "output_type": "execute_result"
    },
    {
     "data": {
      "image/png": "[encoded data removed]",
      "text/plain": [
       "<Figure size 432x288 with 1 Axes>"
      ]
     },
     "metadata": {
      "needs_background": "light"
     },
     "output_type": "display_data"
    }
   ],
   "source": [
    "fig, ax = plt.subplots()\n",
    "internet_users['Users'].plot(ax=ax)"
   ]
  },
  {
   "cell_type": "markdown",
   "metadata": {},
   "source": [
    "Here we can see an almost linear relationship. We can do a small statistical test to confirm it."
   ]
  },
  {
   "cell_type": "code",
   "execution_count": 18,
   "metadata": {},
   "outputs": [
    {
     "data": {
      "text/html": [
       "<div>\n",
       "<style scoped>\n",
       "    .dataframe tbody tr th:only-of-type {\n",
       "        vertical-align: middle;\n",
       "    }\n",
       "\n",
       "    .dataframe tbody tr th {\n",
       "        vertical-align: top;\n",
       "    }\n",
       "\n",
       "    .dataframe thead th {\n",
       "        text-align: right;\n",
       "    }\n",
       "</style>\n",
       "<table border=\"1\" class=\"dataframe\">\n",
       "  <thead>\n",
       "    <tr style=\"text-align: right;\">\n",
       "      <th></th>\n",
       "      <th>Users</th>\n",
       "      <th>Percentage of World Population</th>\n",
       "      <th>Source</th>\n",
       "      <th>nb_months</th>\n",
       "    </tr>\n",
       "    <tr>\n",
       "      <th>Month</th>\n",
       "      <th></th>\n",
       "      <th></th>\n",
       "      <th></th>\n",
       "      <th></th>\n",
       "    </tr>\n",
       "  </thead>\n",
       "  <tbody>\n",
       "    <tr>\n",
       "      <th>2007-12-01</th>\n",
       "      <td>1319000000</td>\n",
       "      <td>20.0</td>\n",
       "      <td>Internet World Stats</td>\n",
       "      <td>0.0</td>\n",
       "    </tr>\n",
       "    <tr>\n",
       "      <th>2008-03-01</th>\n",
       "      <td>1407000000</td>\n",
       "      <td>21.1</td>\n",
       "      <td>Internet World Stats</td>\n",
       "      <td>3.0</td>\n",
       "    </tr>\n",
       "    <tr>\n",
       "      <th>2008-06-01</th>\n",
       "      <td>1463000000</td>\n",
       "      <td>21.9</td>\n",
       "      <td>Internet World Stats</td>\n",
       "      <td>6.0</td>\n",
       "    </tr>\n",
       "    <tr>\n",
       "      <th>2008-09-01</th>\n",
       "      <td>1504000000</td>\n",
       "      <td>22.5</td>\n",
       "      <td>Internet World Stats</td>\n",
       "      <td>9.0</td>\n",
       "    </tr>\n",
       "  </tbody>\n",
       "</table>\n",
       "</div>"
      ],
      "text/plain": [
       "                 Users  Percentage of World Population                Source  \\\n",
       "Month                                                                          \n",
       "2007-12-01  1319000000                            20.0  Internet World Stats   \n",
       "2008-03-01  1407000000                            21.1  Internet World Stats   \n",
       "2008-06-01  1463000000                            21.9  Internet World Stats   \n",
       "2008-09-01  1504000000                            22.5  Internet World Stats   \n",
       "\n",
       "            nb_months  \n",
       "Month                  \n",
       "2007-12-01        0.0  \n",
       "2008-03-01        3.0  \n",
       "2008-06-01        6.0  \n",
       "2008-09-01        9.0  "
      ]
     },
     "execution_count": 18,
     "metadata": {},
     "output_type": "execute_result"
    }
   ],
   "source": [
    "# First we will add a new columns with number of months from 2008 Jan.\n",
    "internet_users['nb_months'] = (internet_users.index- pd.to_datetime('2007-12-01') )/np.timedelta64(1, 'M')\n",
    "internet_users['nb_months'] = internet_users['nb_months'].round() # to round the month count\n",
    "internet_users.head(4)"
   ]
  },
  {
   "cell_type": "code",
   "execution_count": 20,
   "metadata": {},
   "outputs": [
    {
     "name": "stdout",
     "output_type": "stream",
     "text": [
      "                            OLS Regression Results                            \n",
      "==============================================================================\n",
      "Dep. Variable:                  Users   R-squared:                       0.995\n",
      "Model:                            OLS   Adj. R-squared:                  0.995\n",
      "Method:                 Least Squares   F-statistic:                     5962.\n",
      "Date:                Sat, 12 Dec 2020   Prob (F-statistic):           5.21e-37\n",
      "Time:                        21:43:10   Log-Likelihood:                -645.47\n",
      "No. Observations:                  33   AIC:                             1295.\n",
      "Df Residuals:                      31   BIC:                             1298.\n",
      "Df Model:                           1                                         \n",
      "Covariance Type:            nonrobust                                         \n",
      "==============================================================================\n",
      "                 coef    std err          t      P>|t|      [0.025      0.975]\n",
      "------------------------------------------------------------------------------\n",
      "Intercept   1.222e+09   2.36e+07     51.778      0.000    1.17e+09    1.27e+09\n",
      "nb_months   2.329e+07   3.02e+05     77.211      0.000    2.27e+07    2.39e+07\n",
      "==============================================================================\n",
      "Omnibus:                        5.752   Durbin-Watson:                   0.496\n",
      "Prob(Omnibus):                  0.056   Jarque-Bera (JB):                1.931\n",
      "Skew:                           0.065   Prob(JB):                        0.381\n",
      "Kurtosis:                       1.822   Cond. No.                         136.\n",
      "==============================================================================\n",
      "\n",
      "Warnings:\n",
      "[1] Standard Errors assume that the covariance matrix of the errors is correctly specified.\n"
     ]
    }
   ],
   "source": [
    "# now we can do the regression\n",
    "mod = smf.ols(formula='Users ~ nb_months', data=internet_users)\n",
    "res = mod.fit()\n",
    "print(res.summary())"
   ]
  },
  {
   "cell_type": "markdown",
   "metadata": {},
   "source": [
    "As predicted the two variables are highly corelated ($R^2$ value is 0.995) and also we can neglect the null hypothesis because the p value is zero.\n",
    "\n",
    "And a **fun fact** is according to this, we can safely say internet users grows ~2.3 million each month!"
   ]
  },
  {
   "cell_type": "code",
   "execution_count": 21,
   "metadata": {},
   "outputs": [
    {
     "data": {
      "text/plain": [
       "[<matplotlib.lines.Line2D at 0x7f1d983e9b10>]"
      ]
     },
     "execution_count": 21,
     "metadata": {},
     "output_type": "execute_result"
    },
    {
     "data": {
      "image/png": "[encoded data removed]",
      "text/plain": [
       "<Figure size 720x432 with 1 Axes>"
      ]
     },
     "metadata": {
      "needs_background": "light"
     },
     "output_type": "display_data"
    }
   ],
   "source": [
    "# now lets plot the linear regression line with the previous plot\n",
    "bias, tangent = res.params\n",
    "fig, ax = plt.subplots()\n",
    "fig.set_size_inches(10, 6)\n",
    "internet_users['Users'].plot(ax=ax)\n",
    "ax.plot(internet_users.index, (internet_users['nb_months']*tangent+bias))"
   ]
  },
  {
   "cell_type": "markdown",
   "metadata": {},
   "source": [
    "As we can see, we can see a very good match between the actual graph and the regression line. This is a very convinient result as now we can use the regression line for the analysis, thus eliminating the issue of some missing figures in the actual dataset."
   ]
  },
  {
   "cell_type": "code",
   "execution_count": 75,
   "metadata": {},
   "outputs": [
    {
     "data": {
      "text/html": [
       "<div>\n",
       "<style scoped>\n",
       "    .dataframe tbody tr th:only-of-type {\n",
       "        vertical-align: middle;\n",
       "    }\n",
       "\n",
       "    .dataframe tbody tr th {\n",
       "        vertical-align: top;\n",
       "    }\n",
       "\n",
       "    .dataframe thead th {\n",
       "        text-align: right;\n",
       "    }\n",
       "</style>\n",
       "<table border=\"1\" class=\"dataframe\">\n",
       "  <thead>\n",
       "    <tr style=\"text-align: right;\">\n",
       "      <th></th>\n",
       "      <th>date</th>\n",
       "      <th>views</th>\n",
       "      <th>num</th>\n",
       "      <th>internet_users</th>\n",
       "      <th>views_per_million_users</th>\n",
       "    </tr>\n",
       "  </thead>\n",
       "  <tbody>\n",
       "    <tr>\n",
       "      <th>0</th>\n",
       "      <td>2008-01-01</td>\n",
       "      <td>1770122.0</td>\n",
       "      <td>1</td>\n",
       "      <td>1.245405e+09</td>\n",
       "      <td>1421.322076</td>\n",
       "    </tr>\n",
       "    <tr>\n",
       "      <th>1</th>\n",
       "      <td>2008-02-01</td>\n",
       "      <td>1779044.0</td>\n",
       "      <td>2</td>\n",
       "      <td>1.268699e+09</td>\n",
       "      <td>1402.258026</td>\n",
       "    </tr>\n",
       "    <tr>\n",
       "      <th>2</th>\n",
       "      <td>2008-03-01</td>\n",
       "      <td>1810909.0</td>\n",
       "      <td>3</td>\n",
       "      <td>1.291994e+09</td>\n",
       "      <td>1401.639239</td>\n",
       "    </tr>\n",
       "    <tr>\n",
       "      <th>3</th>\n",
       "      <td>2008-04-01</td>\n",
       "      <td>2074790.0</td>\n",
       "      <td>4</td>\n",
       "      <td>1.315288e+09</td>\n",
       "      <td>1577.441781</td>\n",
       "    </tr>\n",
       "  </tbody>\n",
       "</table>\n",
       "</div>"
      ],
      "text/plain": [
       "        date      views  num  internet_users  views_per_million_users\n",
       "0 2008-01-01  1770122.0    1    1.245405e+09              1421.322076\n",
       "1 2008-02-01  1779044.0    2    1.268699e+09              1402.258026\n",
       "2 2008-03-01  1810909.0    3    1.291994e+09              1401.639239\n",
       "3 2008-04-01  2074790.0    4    1.315288e+09              1577.441781"
      ]
     },
     "execution_count": 75,
     "metadata": {},
     "output_type": "execute_result"
    }
   ],
   "source": [
    "# data_pre[\"internet_users\"] = data_pre[\"num\"]*tangent+bias\n",
    "# data_post[\"internet_users\"] = data_post[\"num\"]*tangent+bias\n",
    "terror_month[\"internet_users\"] = terror_month[\"num\"]*tangent+bias\n",
    "terror_month[\"views_per_million_users\"] = terror_month[\"views\"]/terror_month[\"internet_users\"]*1e6\n",
    "terror_month.head(4)"
   ]
  },
  {
   "cell_type": "code",
   "execution_count": 85,
   "metadata": {},
   "outputs": [
    {
     "data": {
      "image/png": "[encoded data removed]",
      "text/plain": [
       "<Figure size 864x432 with 1 Axes>"
      ]
     },
     "metadata": {
      "needs_background": "light"
     },
     "output_type": "display_data"
    }
   ],
   "source": [
    "# now let's plot this result\n",
    "fig, ax = plt.subplots(figsize=(12,6))\n",
    "sns.regplot(x=\"num\", y=\"views_per_million_users\", ax=ax, data=terror_month[:65], label=\"Terrorism Article Views Pre-June\")\n",
    "sns.regplot(x=\"num\", y=\"views_per_million_users\", ax=ax, data=terror_month[65:], label=\"Terrorism Article Views Post-June\")\n",
    "\n",
    "# line and marker at mid June 2013\n",
    "ax.axvline(x=65.5, color=\"#bbbbbb\") \n",
    "_, top = ax.get_ylim()\n",
    "plt.text(58,top+20,'Mid June 2013')\n",
    "\n",
    "# plot axises, legends and etc...\n",
    "ax.set_title(\"Terrorism Articles Total Views considering Total Interent Users\", y=-0.16)\n",
    "ax.legend(loc='best')\n",
    "ax.set_xlabel(\"Time (Months)\")\n",
    "ax.set_ylabel(\"Total Views per month for a million internet users\")\n",
    "ax.grid(axis='y',color='#cccccc')"
   ]
  },
  {
   "cell_type": "markdown",
   "metadata": {},
   "source": [
    "This tells a different story than the conclusion we made above. Now the division between the two categories are not so significant. In other words, when we take the number of internet users in the world, the total traffic for these terrorism related articles have a negative trend."
   ]
  },
  {
   "cell_type": "code",
   "execution_count": null,
   "metadata": {},
   "outputs": [],
   "source": []
  }
 ],
 "metadata": {
  "kernelspec": {
   "display_name": "Python 3",
   "language": "python",
   "name": "python3"
  },
  "language_info": {
   "codemirror_mode": {
    "name": "ipython",
    "version": 3
   },
   "file_extension": ".py",
   "mimetype": "text/x-python",
   "name": "python",
   "nbconvert_exporter": "python",
   "pygments_lexer": "ipython3",
   "version": "3.8.0"
  }
 },
 "nbformat": 4,
 "nbformat_minor": 4
}
