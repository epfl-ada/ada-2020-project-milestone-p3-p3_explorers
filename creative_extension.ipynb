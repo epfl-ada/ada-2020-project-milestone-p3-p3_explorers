{
 "cells": [
  {
   "cell_type": "markdown",
   "metadata": {},
   "source": [
    "# ADA Project : Creative Extension\n",
    "## Chilling Effects : Online Surveillance and Wikipedia Use"
   ]
  },
  {
   "cell_type": "markdown",
   "metadata": {},
   "source": [
    "In this notebook, we extend the analysis done in the paper by using an extended time range, and try to answer the following questions:\n",
    "\n",
    "1. Is there a persistent, long-term chilling effect related to Snowden’s revelation?\n",
    "2. Can we highlight new chilling effects due to other scandals?\n",
    "3. What may be the other factors governing the traffic and how are they affecting the article views?\n",
    "\n",
    "**Content**\n",
    "\n",
    "[Data Acquisition and processing](#data)\n",
    "- [Data Acquisition](#webScrape)\n",
    "- [Data Preprocessing](#dataProcessing)\n",
    "\n",
    "[Question 1](#q1)\n",
    "\n",
    "[Question 2](#q2)\n",
    "\n",
    "[Question 3](#q3)\n",
    "- [Growth of Internet](#internetUsers)\n",
    "\n"
   ]
  },
  {
   "cell_type": "code",
   "execution_count": 1,
   "metadata": {},
   "outputs": [],
   "source": [
    "#internal imports\n",
    "import scraping\n",
    "\n",
    "#external imports\n",
    "import pandas as pd\n",
    "import numpy as np\n",
    "from sklearn.linear_model import LinearRegression\n",
    "import statsmodels.formula.api as smf\n",
    "import matplotlib.pyplot as plt"
   ]
  },
  {
   "cell_type": "code",
   "execution_count": 2,
   "metadata": {},
   "outputs": [],
   "source": [
    "DATA_DIRECTORY = 'data/'\n",
    "ARTICLES_TITLES = 'articles.txt'\n",
    "TERRORISM_DATA = 'terrorism.csv'\n",
    "INTERNET_USERS = 'worldInternetUsers.csv'"
   ]
  },
  {
   "cell_type": "markdown",
   "metadata": {},
   "source": [
    "<a id=\"data\"></a>\n",
    "## Data Acquisition and processing\n",
    "<a id=\"webScrape\"></a>\n",
    "### Web scraping"
   ]
  },
  {
   "cell_type": "markdown",
   "metadata": {},
   "source": [
    "The first step is to scrape the website [wikipediaviews](https://wikipediaviews.org) in order to get monthly pageviews of the terrorism-related articles for the time range 2008-2018. Note that the data provided by this site is based on both `stats.grok.se` (for the period before June 2015) and the Wikimedia REST API (for the period after).\n",
    "\n",
    "We will only consider the English Wikipedia and we ignore pageviews from mobile devices."
   ]
  },
  {
   "cell_type": "code",
   "execution_count": 3,
   "metadata": {},
   "outputs": [],
   "source": [
    "# We can scrape the data and save it in a CSV file using this function\n",
    "#scrape_wikipedia_pageviews(2008, 1, 2018, 12, DATA_DIRECTORY, ARTICLES_TITLES, TERRORISM_DATA)"
   ]
  },
  {
   "cell_type": "markdown",
   "metadata": {},
   "source": [
    "<a id=\"dataProcessing\"></a>\n",
    "### Data processing"
   ]
  },
  {
   "cell_type": "code",
   "execution_count": 4,
   "metadata": {},
   "outputs": [
    {
     "name": "stdout",
     "output_type": "stream",
     "text": [
      "6336 lines\n"
     ]
    },
    {
     "data": {
      "text/html": [
       "<div>\n",
       "<style scoped>\n",
       "    .dataframe tbody tr th:only-of-type {\n",
       "        vertical-align: middle;\n",
       "    }\n",
       "\n",
       "    .dataframe tbody tr th {\n",
       "        vertical-align: top;\n",
       "    }\n",
       "\n",
       "    .dataframe thead th {\n",
       "        text-align: right;\n",
       "    }\n",
       "</style>\n",
       "<table border=\"1\" class=\"dataframe\">\n",
       "  <thead>\n",
       "    <tr style=\"text-align: right;\">\n",
       "      <th></th>\n",
       "      <th>article</th>\n",
       "      <th>date</th>\n",
       "      <th>views</th>\n",
       "    </tr>\n",
       "  </thead>\n",
       "  <tbody>\n",
       "    <tr>\n",
       "      <th>1386</th>\n",
       "      <td>car_bomb</td>\n",
       "      <td>2013-07</td>\n",
       "      <td>NaN</td>\n",
       "    </tr>\n",
       "    <tr>\n",
       "      <th>4348</th>\n",
       "      <td>pakistan</td>\n",
       "      <td>2018-05</td>\n",
       "      <td>150277.0</td>\n",
       "    </tr>\n",
       "    <tr>\n",
       "      <th>6049</th>\n",
       "      <td>terrorism</td>\n",
       "      <td>2017-02</td>\n",
       "      <td>43262.0</td>\n",
       "    </tr>\n",
       "    <tr>\n",
       "      <th>1240</th>\n",
       "      <td>biological_weapon</td>\n",
       "      <td>2012-05</td>\n",
       "      <td>3298.0</td>\n",
       "    </tr>\n",
       "  </tbody>\n",
       "</table>\n",
       "</div>"
      ],
      "text/plain": [
       "                article     date     views\n",
       "1386           car_bomb  2013-07       NaN\n",
       "4348           pakistan  2018-05  150277.0\n",
       "6049          terrorism  2017-02   43262.0\n",
       "1240  biological_weapon  2012-05    3298.0"
      ]
     },
     "execution_count": 4,
     "metadata": {},
     "output_type": "execute_result"
    }
   ],
   "source": [
    "terrorism_raw = pd.read_csv(DATA_DIRECTORY + TERRORISM_DATA, usecols=[1, 2, 3])\n",
    "print(terrorism_raw.shape[0], 'lines')\n",
    "terrorism_raw.sample(4)"
   ]
  },
  {
   "cell_type": "code",
   "execution_count": 6,
   "metadata": {},
   "outputs": [
    {
     "name": "stdout",
     "output_type": "stream",
     "text": [
      "4105 lines\n"
     ]
    },
    {
     "name": "stderr",
     "output_type": "stream",
     "text": [
      "/home/wenuka/anaconda3/lib/python3.7/site-packages/ipykernel_launcher.py:3: SettingWithCopyWarning: \n",
      "A value is trying to be set on a copy of a slice from a DataFrame.\n",
      "Try using .loc[row_indexer,col_indexer] = value instead\n",
      "\n",
      "See the caveats in the documentation: https://pandas.pydata.org/pandas-docs/stable/user_guide/indexing.html#returning-a-view-versus-a-copy\n",
      "  This is separate from the ipykernel package so we can avoid doing imports until\n"
     ]
    },
    {
     "data": {
      "text/html": [
       "<div>\n",
       "<style scoped>\n",
       "    .dataframe tbody tr th:only-of-type {\n",
       "        vertical-align: middle;\n",
       "    }\n",
       "\n",
       "    .dataframe tbody tr th {\n",
       "        vertical-align: top;\n",
       "    }\n",
       "\n",
       "    .dataframe thead th {\n",
       "        text-align: right;\n",
       "    }\n",
       "</style>\n",
       "<table border=\"1\" class=\"dataframe\">\n",
       "  <thead>\n",
       "    <tr style=\"text-align: right;\">\n",
       "      <th></th>\n",
       "      <th>article</th>\n",
       "      <th>date</th>\n",
       "      <th>views</th>\n",
       "    </tr>\n",
       "  </thead>\n",
       "  <tbody>\n",
       "    <tr>\n",
       "      <th>3484</th>\n",
       "      <td>islamist</td>\n",
       "      <td>2012-05-01</td>\n",
       "      <td>4723.0</td>\n",
       "    </tr>\n",
       "    <tr>\n",
       "      <th>2745</th>\n",
       "      <td>hamas</td>\n",
       "      <td>2016-10-01</td>\n",
       "      <td>32083.0</td>\n",
       "    </tr>\n",
       "    <tr>\n",
       "      <th>120</th>\n",
       "      <td>abu_sayyaf</td>\n",
       "      <td>2018-01-01</td>\n",
       "      <td>10982.0</td>\n",
       "    </tr>\n",
       "    <tr>\n",
       "      <th>5766</th>\n",
       "      <td>tehrik-i-taliban_pakistan</td>\n",
       "      <td>2015-07-01</td>\n",
       "      <td>8211.0</td>\n",
       "    </tr>\n",
       "  </tbody>\n",
       "</table>\n",
       "</div>"
      ],
      "text/plain": [
       "                        article       date    views\n",
       "3484                   islamist 2012-05-01   4723.0\n",
       "2745                      hamas 2016-10-01  32083.0\n",
       "120                  abu_sayyaf 2018-01-01  10982.0\n",
       "5766  tehrik-i-taliban_pakistan 2015-07-01   8211.0"
      ]
     },
     "execution_count": 6,
     "metadata": {},
     "output_type": "execute_result"
    }
   ],
   "source": [
    "#We handle the NaN values \n",
    "terrorism = terrorism_raw[~terrorism_raw.views.isna() & terrorism_raw.views != 0]\n",
    "terrorism['date']= pd.to_datetime(terrorism['date'])  # convert date to datetime\n",
    "print(terrorism.shape[0], 'lines')\n",
    "terrorism.sample(4)"
   ]
  },
  {
   "cell_type": "code",
   "execution_count": 7,
   "metadata": {},
   "outputs": [
    {
     "data": {
      "text/html": [
       "<div>\n",
       "<style scoped>\n",
       "    .dataframe tbody tr th:only-of-type {\n",
       "        vertical-align: middle;\n",
       "    }\n",
       "\n",
       "    .dataframe tbody tr th {\n",
       "        vertical-align: top;\n",
       "    }\n",
       "\n",
       "    .dataframe thead th {\n",
       "        text-align: right;\n",
       "    }\n",
       "</style>\n",
       "<table border=\"1\" class=\"dataframe\">\n",
       "  <thead>\n",
       "    <tr style=\"text-align: right;\">\n",
       "      <th></th>\n",
       "      <th>Users</th>\n",
       "      <th>Percentage of World Population</th>\n",
       "      <th>Source</th>\n",
       "    </tr>\n",
       "    <tr>\n",
       "      <th>Month</th>\n",
       "      <th></th>\n",
       "      <th></th>\n",
       "      <th></th>\n",
       "    </tr>\n",
       "  </thead>\n",
       "  <tbody>\n",
       "    <tr>\n",
       "      <th>2015-06-01</th>\n",
       "      <td>3270000000</td>\n",
       "      <td>45.0</td>\n",
       "      <td>Internet World Stats</td>\n",
       "    </tr>\n",
       "    <tr>\n",
       "      <th>2019-06-01</th>\n",
       "      <td>4536000000</td>\n",
       "      <td>58.8</td>\n",
       "      <td>Internet World Stats</td>\n",
       "    </tr>\n",
       "    <tr>\n",
       "      <th>2018-06-01</th>\n",
       "      <td>4208000000</td>\n",
       "      <td>55.1</td>\n",
       "      <td>Internet World Stats</td>\n",
       "    </tr>\n",
       "    <tr>\n",
       "      <th>2012-03-01</th>\n",
       "      <td>2336000000</td>\n",
       "      <td>33.3</td>\n",
       "      <td>Internet World Stats</td>\n",
       "    </tr>\n",
       "  </tbody>\n",
       "</table>\n",
       "</div>"
      ],
      "text/plain": [
       "                 Users  Percentage of World Population                Source\n",
       "Month                                                                       \n",
       "2015-06-01  3270000000                            45.0  Internet World Stats\n",
       "2019-06-01  4536000000                            58.8  Internet World Stats\n",
       "2018-06-01  4208000000                            55.1  Internet World Stats\n",
       "2012-03-01  2336000000                            33.3  Internet World Stats"
      ]
     },
     "execution_count": 7,
     "metadata": {},
     "output_type": "execute_result"
    }
   ],
   "source": [
    "internet_users = pd.read_csv(DATA_DIRECTORY + INTERNET_USERS, parse_dates=[\"Month\"])\n",
    "internet_users.set_index(\"Month\", inplace=True)\n",
    "internet_users.sample(4)"
   ]
  },
  {
   "cell_type": "markdown",
   "metadata": {},
   "source": [
    "### Verifying Data"
   ]
  },
  {
   "cell_type": "code",
   "execution_count": 8,
   "metadata": {},
   "outputs": [
    {
     "data": {
      "image/png": "[encoded data removed]",
      "text/plain": [
       "<Figure size 864x432 with 1 Axes>"
      ]
     },
     "metadata": {
      "needs_background": "light"
     },
     "output_type": "display_data"
    }
   ],
   "source": [
    "# first we need to compute number of articles per month\n",
    "terrorism2 = terrorism.copy()\n",
    "terrorism2.set_index(\"date\", inplace=True)\n",
    "terrorism_group_count = terrorism2.groupby(\"date\").count() # now this has article count per each month\n",
    "# now lest's plot the data\n",
    "fig, ax = plt.subplots()\n",
    "terrorism_group_count[\"article\"].plot(ax=ax)\n",
    "fig.set_size_inches(12, 6)\n",
    "ax.set_title(\"Number of articles with data for each month\")\n",
    "ax.set_ylabel(\"number of articles\")\n",
    "ax.set_xlabel(\"Month\")\n",
    "ax.grid()"
   ]
  },
  {
   "cell_type": "markdown",
   "metadata": {},
   "source": [
    "<a id=\"q1\"></a>\n",
    "## Question 1 : Is there a persistant chilling effect ? "
   ]
  },
  {
   "cell_type": "code",
   "execution_count": 9,
   "metadata": {},
   "outputs": [],
   "source": [
    "#Now we sum the article viwes of the same month\n",
    "terror_month = terrorism.groupby([\"date\"]).sum().reset_index()\n",
    "terror_month['date']= pd.to_datetime(terror_month['date'])  # convert date to datetime\n",
    "terror_month[\"num\"] = np.arange(1, len(terror_month)+1)"
   ]
  },
  {
   "cell_type": "code",
   "execution_count": 10,
   "metadata": {},
   "outputs": [],
   "source": [
    "#create subsets, pre & post June 2013\n",
    "data_pre = terror_month[terror_month.date < \"2013-06\"]\n",
    "data_post = terror_month[terror_month.date >= \"2013-06\"]"
   ]
  },
  {
   "cell_type": "markdown",
   "metadata": {},
   "source": [
    "## 1.1 Non-model empirical finding\n",
    "Here, we present findings that do not rely on a statiscal model. Here, we computed the average monthly number of views, before and after the june 2013 events"
   ]
  },
  {
   "cell_type": "code",
   "execution_count": 134,
   "metadata": {},
   "outputs": [
    {
     "data": {
      "image/png": "[encoded data removed]",
      "text/plain": [
       "<Figure size 432x288 with 1 Axes>"
      ]
     },
     "metadata": {
      "needs_background": "light"
     },
     "output_type": "display_data"
    }
   ],
   "source": [
    "avg_month_view = pd.DataFrame({'time':['Pre-june', 'Post-june'], 'avg':[data_pre.views.mean(), data_post.views.mean()]})\n",
    "ax = avg_month_view.plot.bar(x='time', y='avg', rot=0)"
   ]
  },
  {
   "cell_type": "code",
   "execution_count": 146,
   "metadata": {},
   "outputs": [
    {
     "data": {
      "text/html": [
       "<div>\n",
       "<style scoped>\n",
       "    .dataframe tbody tr th:only-of-type {\n",
       "        vertical-align: middle;\n",
       "    }\n",
       "\n",
       "    .dataframe tbody tr th {\n",
       "        vertical-align: top;\n",
       "    }\n",
       "\n",
       "    .dataframe thead th {\n",
       "        text-align: right;\n",
       "    }\n",
       "</style>\n",
       "<table border=\"1\" class=\"dataframe\">\n",
       "  <thead>\n",
       "    <tr style=\"text-align: right;\">\n",
       "      <th></th>\n",
       "      <th>time</th>\n",
       "      <th>avg</th>\n",
       "    </tr>\n",
       "  </thead>\n",
       "  <tbody>\n",
       "    <tr>\n",
       "      <th>0</th>\n",
       "      <td>Pre-june</td>\n",
       "      <td>2.419242e+06</td>\n",
       "    </tr>\n",
       "    <tr>\n",
       "      <th>1</th>\n",
       "      <td>Post-june</td>\n",
       "      <td>1.484429e+06</td>\n",
       "    </tr>\n",
       "  </tbody>\n",
       "</table>\n",
       "</div>"
      ],
      "text/plain": [
       "        time           avg\n",
       "0   Pre-june  2.419242e+06\n",
       "1  Post-june  1.484429e+06"
      ]
     },
     "execution_count": 146,
     "metadata": {},
     "output_type": "execute_result"
    }
   ],
   "source": [
    "avg_month_view"
   ]
  },
  {
   "cell_type": "code",
   "execution_count": 159,
   "metadata": {},
   "outputs": [
    {
     "name": "stdout",
     "output_type": "stream",
     "text": [
      "Percent change between rows :\n",
      "0         NaN\n",
      "1   -0.386407\n",
      "Name: avg, dtype: float64\n",
      "Difference between rows :\n",
      "0              NaN\n",
      "1   -934812.277024\n",
      "Name: avg, dtype: float64\n"
     ]
    }
   ],
   "source": [
    "print(\"Percent change between rows :\")\n",
    "print(avg_month_view.avg.pct_change())\n",
    "print(\"Difference between rows :\")\n",
    "print(avg_month_view.avg.diff())"
   ]
  },
  {
   "cell_type": "markdown",
   "metadata": {},
   "source": [
    "The difference in mean values before and after June 2013 is notable a reduction of **934812.3** in the average monthly views for the articles, which represents approximately a **38.6%** drop in article view counts"
   ]
  },
  {
   "cell_type": "markdown",
   "metadata": {},
   "source": [
    "## 1.2 Model-based empirical findings"
   ]
  },
  {
   "cell_type": "markdown",
   "metadata": {},
   "source": [
    "We then performed an *Interrupted Time Series* (ITS) analysis, by performing a linear regression before and after our \"iterruption\" (here, the June 2013 revelations)."
   ]
  },
  {
   "cell_type": "code",
   "execution_count": 151,
   "metadata": {},
   "outputs": [
    {
     "data": {
      "image/png": "[encoded data removed]",
      "text/plain": [
       "<Figure size 864x432 with 1 Axes>"
      ]
     },
     "metadata": {
      "needs_background": "light"
     },
     "output_type": "display_data"
    }
   ],
   "source": [
    "#graphic style with a color-blind safe pallet\n",
    "color1 = '#000000'\n",
    "color2 = '#377eb8'\n",
    "color3 = '#999999'\n",
    "color4 = '#984ea3'\n",
    "fig, ax1 = plt.subplots(figsize=(12,6))\n",
    "ax1.set_xlabel(\"Time (Months)\")\n",
    "ax1.set_ylabel(\"Total Views\")\n",
    "plt.ylim(0, 5000000)\n",
    "\n",
    "#scatter the views as a function of the month number\n",
    "ax1.scatter(data_pre.date, data_pre.views, color=color1, label=\"Total Article Views pre Snowden incident (By Month)\")\n",
    "ax1.scatter(data_post.date, data_post.views, color=color2, label=\"Total Article Views post Snowden incident(By Month)\")\n",
    "#perform linear regression\n",
    "#we fit a regressor for each of the post and pre June-2013 subsets\n",
    "\n",
    "#trend pre-june\n",
    "trend_pre = LinearRegression()\n",
    "x_pre = data_pre[[\"num\"]]\n",
    "y_pre = data_pre[[\"views\"]]\n",
    "trend_pre.fit(x_pre, y_pre)\n",
    "Y_pre = trend_pre.predict(x_pre)\n",
    "p2 = plt.plot(data_pre.date, Y_pre, label=\"Trend Pre-June 2013\", color=color3, linewidth=4)\n",
    "\n",
    "#trend post-june\n",
    "trend_post = LinearRegression()\n",
    "x_post = data_post[[\"num\"]]\n",
    "y_post = data_post[[\"views\"]]\n",
    "trend_post.fit(x_post, y_post)\n",
    "Y_post = trend_post.predict(x_post)\n",
    "p3 = plt.plot(data_post.date, Y_post, label=\"Trend Post-June 2013\", color=color4, linewidth=4)\n",
    "\n",
    "#Legend adjustments\n",
    "plt.legend(loc = \"lower center\", bbox_to_anchor=(0.5, -0.45))\n",
    "plt.title(\"Pre and Post June 2013 Article View Trends (Outliers Included).\",y=-0.55)\n",
    "plt.show()\n"
   ]
  },
  {
   "cell_type": "markdown",
   "metadata": {},
   "source": [
    " The sudden drop in views and trend shift from increasing monthly views over time to decreasing after June 2013 is consistent with a significant and long-term chilling effect. We also notice that we did not need to remove outliers to obtain results that are consistent with the chilling effect hypothesis. One can discuss if we also need to perform a ITS without the outliers."
   ]
  },
  {
   "cell_type": "markdown",
   "metadata": {},
   "source": [
    "<a id=\"q2\"></a>\n",
    "## Question 2 : other scandals ?"
   ]
  },
  {
   "cell_type": "markdown",
   "metadata": {},
   "source": [
    "Potential other scandals we can highlight :\n",
    "\n",
    "[2013 : Chelsea Manning sentenced to 35 years in prison](https://en.wikipedia.org/wiki/United_States_v._Manning)\n",
    "\n",
    "[2017 : Vault 7](https://en.wikipedia.org/wiki/Vault_7)\n",
    "\n",
    "[2018 : Cambridge analytica scandal](https://en.wikipedia.org/wiki/Facebook%E2%80%93Cambridge_Analytica_data_scandal)\n",
    "\n",
    "[2019 : “the great hack” documentary on Netflix](https://en.wikipedia.org/wiki/The_Great_Hack#Reception)\n",
    "\n",
    "[2019 : Julian assange arrest](https://en.wikipedia.org/wiki/Julian_Assange)"
   ]
  },
  {
   "cell_type": "code",
   "execution_count": null,
   "metadata": {},
   "outputs": [],
   "source": []
  },
  {
   "cell_type": "markdown",
   "metadata": {},
   "source": [
    "<a id=\"q3\"></a>\n",
    "## Question 3 : other factors governing the traffic\n",
    "<a id=\"internetUsers\"></a>\n",
    "### Growth of Internet Users\n",
    "\n",
    "One of the main factors that can affect the Wiliedia traffic will be the number of users. So let's first consider it"
   ]
  },
  {
   "cell_type": "code",
   "execution_count": 12,
   "metadata": {},
   "outputs": [
    {
     "data": {
      "text/plain": [
       "<matplotlib.axes._subplots.AxesSubplot at 0x7f4f097e1290>"
      ]
     },
     "execution_count": 12,
     "metadata": {},
     "output_type": "execute_result"
    },
    {
     "data": {
      "image/png": "[encoded data removed]",
      "text/plain": [
       "<Figure size 432x288 with 1 Axes>"
      ]
     },
     "metadata": {
      "needs_background": "light"
     },
     "output_type": "display_data"
    }
   ],
   "source": [
    "fig, ax = plt.subplots()\n",
    "internet_users['Users'].plot(ax=ax)"
   ]
  },
  {
   "cell_type": "markdown",
   "metadata": {},
   "source": [
    "Here we can see an almost linear relationship. We can do a small statistical test to confirm it."
   ]
  },
  {
   "cell_type": "code",
   "execution_count": 13,
   "metadata": {},
   "outputs": [
    {
     "name": "stdout",
     "output_type": "stream",
     "text": [
      "                            OLS Regression Results                            \n",
      "==============================================================================\n",
      "Dep. Variable:                  Users   R-squared:                       0.995\n",
      "Model:                            OLS   Adj. R-squared:                  0.995\n",
      "Method:                 Least Squares   F-statistic:                     5962.\n",
      "Date:                Wed, 09 Dec 2020   Prob (F-statistic):           5.21e-37\n",
      "Time:                        19:50:02   Log-Likelihood:                -645.47\n",
      "No. Observations:                  33   AIC:                             1295.\n",
      "Df Residuals:                      31   BIC:                             1298.\n",
      "Df Model:                           1                                         \n",
      "Covariance Type:            nonrobust                                         \n",
      "==============================================================================\n",
      "                 coef    std err          t      P>|t|      [0.025      0.975]\n",
      "------------------------------------------------------------------------------\n",
      "Intercept   1.222e+09   2.36e+07     51.778      0.000    1.17e+09    1.27e+09\n",
      "nb_months   2.329e+07   3.02e+05     77.211      0.000    2.27e+07    2.39e+07\n",
      "==============================================================================\n",
      "Omnibus:                        5.752   Durbin-Watson:                   0.496\n",
      "Prob(Omnibus):                  0.056   Jarque-Bera (JB):                1.931\n",
      "Skew:                           0.065   Prob(JB):                        0.381\n",
      "Kurtosis:                       1.822   Cond. No.                         136.\n",
      "==============================================================================\n",
      "\n",
      "Warnings:\n",
      "[1] Standard Errors assume that the covariance matrix of the errors is correctly specified.\n"
     ]
    }
   ],
   "source": [
    "# First we will add a new columns with number of months from 2008 Jan.\n",
    "internet_users['nb_months'] = (internet_users.index- pd.to_datetime('2007-12-01') )/np.timedelta64(1, 'M')\n",
    "internet_users['nb_months'] = internet_users['nb_months'].round() # to round the month count\n",
    "# now we can do the regression\n",
    "mod = smf.ols(formula='Users ~ nb_months', data=internet_users)\n",
    "res = mod.fit()\n",
    "print(res.summary())"
   ]
  },
  {
   "cell_type": "markdown",
   "metadata": {},
   "source": [
    "As predicted the two variables are highly corelated ($R^2$ value is 0.995) and also we can neglect the null hypothesis because the p value is zero.\n",
    "\n",
    "And a **fun fact** is according to this, we can safely say internet users grows ~2.3 million each month!"
   ]
  },
  {
   "cell_type": "code",
   "execution_count": 14,
   "metadata": {},
   "outputs": [
    {
     "data": {
      "text/plain": [
       "[<matplotlib.lines.Line2D at 0x7f4f082b3890>]"
      ]
     },
     "execution_count": 14,
     "metadata": {},
     "output_type": "execute_result"
    },
    {
     "data": {
      "image/png": "[encoded data removed]",
      "text/plain": [
       "<Figure size 720x432 with 1 Axes>"
      ]
     },
     "metadata": {
      "needs_background": "light"
     },
     "output_type": "display_data"
    }
   ],
   "source": [
    "# now lets plot the linear regression line with the previous plot\n",
    "bias, tangent = res.params\n",
    "fig, ax = plt.subplots()\n",
    "fig.set_size_inches(10, 6)\n",
    "internet_users['Users'].plot(ax=ax)\n",
    "ax.plot(internet_users.index, (internet_users['nb_months']*tangent+bias))"
   ]
  },
  {
   "cell_type": "code",
   "execution_count": null,
   "metadata": {},
   "outputs": [],
   "source": []
  }
 ],
 "metadata": {
  "kernelspec": {
   "display_name": "Python 3",
   "language": "python",
   "name": "python3"
  },
  "language_info": {
   "codemirror_mode": {
    "name": "ipython",
    "version": 3
   },
   "file_extension": ".py",
   "mimetype": "text/x-python",
   "name": "python",
   "nbconvert_exporter": "python",
   "pygments_lexer": "ipython3",
   "version": "3.8.0"
  }
 },
 "nbformat": 4,
 "nbformat_minor": 4
}
