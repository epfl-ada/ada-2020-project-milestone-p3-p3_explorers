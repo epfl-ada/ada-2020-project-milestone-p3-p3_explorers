{
 "cells": [
  {
   "cell_type": "markdown",
   "metadata": {},
   "source": [
    "# ADA Project : Creative Extension\n",
    "## Chilling Effects : Online Surveillance and Wikipedia Use"
   ]
  },
  {
   "cell_type": "markdown",
   "metadata": {},
   "source": [
    "In this notebook, we extend the analysis done in the paper by using an extended time range, and try to answer the following questions:\n",
    "\n",
    "1. Is there a persistent, long-term chilling effect related to Snowden’s revelation?\n",
    "2. Can we highlight new chilling effects due to other scandals?\n",
    "3. What may be the other factors governing the traffic and how are they affecting the article views?"
   ]
  },
  {
   "cell_type": "code",
   "execution_count": 118,
   "metadata": {},
   "outputs": [],
   "source": [
    "#internal imports\n",
    "import scraping\n",
    "\n",
    "#external imports\n",
    "import pandas as pd\n",
    "import numpy as np\n",
    "from sklearn.linear_model import LinearRegression\n",
    "import matplotlib.pyplot as plt"
   ]
  },
  {
   "cell_type": "code",
   "execution_count": 119,
   "metadata": {},
   "outputs": [],
   "source": [
    "DATA_DIRECTORY = 'data/'\n",
    "ARTICLES_TITLES = 'articles.txt'\n",
    "TERRORISM_DATA = 'terrorism.csv'"
   ]
  },
  {
   "cell_type": "markdown",
   "metadata": {},
   "source": [
    "### Web scraping"
   ]
  },
  {
   "cell_type": "markdown",
   "metadata": {},
   "source": [
    "The first step is to scrape the website [wikipediaviews](https://wikipediaviews.org) in order to get monthly pageviews of the terrorism-related articles for the time range 2008-2018. Note that the data provided by this site is based on both `stats.grok.se` (for the period before June 2015) and the Wikimedia REST API (for the period after).\n",
    "\n",
    "We will only consider the English Wikipedia and we ignore pageviews from mobile devices."
   ]
  },
  {
   "cell_type": "code",
   "execution_count": 120,
   "metadata": {},
   "outputs": [],
   "source": [
    "# We can scrape the data and save it in a CSV file using this function\n",
    "#scrape_wikipedia_pageviews(2008, 1, 2018, 12, DATA_DIRECTORY, ARTICLES_TITLES, TERRORISM_DATA)"
   ]
  },
  {
   "cell_type": "markdown",
   "metadata": {},
   "source": [
    "### Data processing"
   ]
  },
  {
   "cell_type": "code",
   "execution_count": 121,
   "metadata": {},
   "outputs": [
    {
     "name": "stdout",
     "output_type": "stream",
     "text": [
      "6336 lines\n"
     ]
    },
    {
     "data": {
      "text/html": [
       "<div>\n",
       "<style scoped>\n",
       "    .dataframe tbody tr th:only-of-type {\n",
       "        vertical-align: middle;\n",
       "    }\n",
       "\n",
       "    .dataframe tbody tr th {\n",
       "        vertical-align: top;\n",
       "    }\n",
       "\n",
       "    .dataframe thead th {\n",
       "        text-align: right;\n",
       "    }\n",
       "</style>\n",
       "<table border=\"1\" class=\"dataframe\">\n",
       "  <thead>\n",
       "    <tr style=\"text-align: right;\">\n",
       "      <th></th>\n",
       "      <th>article</th>\n",
       "      <th>date</th>\n",
       "      <th>views</th>\n",
       "    </tr>\n",
       "  </thead>\n",
       "  <tbody>\n",
       "    <tr>\n",
       "      <th>0</th>\n",
       "      <td>abu_sayyaf</td>\n",
       "      <td>2008-01</td>\n",
       "      <td>NaN</td>\n",
       "    </tr>\n",
       "    <tr>\n",
       "      <th>1</th>\n",
       "      <td>abu_sayyaf</td>\n",
       "      <td>2008-02</td>\n",
       "      <td>9533.0</td>\n",
       "    </tr>\n",
       "    <tr>\n",
       "      <th>2</th>\n",
       "      <td>abu_sayyaf</td>\n",
       "      <td>2008-03</td>\n",
       "      <td>11594.0</td>\n",
       "    </tr>\n",
       "    <tr>\n",
       "      <th>3</th>\n",
       "      <td>abu_sayyaf</td>\n",
       "      <td>2008-04</td>\n",
       "      <td>10507.0</td>\n",
       "    </tr>\n",
       "    <tr>\n",
       "      <th>4</th>\n",
       "      <td>abu_sayyaf</td>\n",
       "      <td>2008-05</td>\n",
       "      <td>10789.0</td>\n",
       "    </tr>\n",
       "  </tbody>\n",
       "</table>\n",
       "</div>"
      ],
      "text/plain": [
       "      article     date    views\n",
       "0  abu_sayyaf  2008-01      NaN\n",
       "1  abu_sayyaf  2008-02   9533.0\n",
       "2  abu_sayyaf  2008-03  11594.0\n",
       "3  abu_sayyaf  2008-04  10507.0\n",
       "4  abu_sayyaf  2008-05  10789.0"
      ]
     },
     "execution_count": 121,
     "metadata": {},
     "output_type": "execute_result"
    }
   ],
   "source": [
    "terrorism_raw = pd.read_csv(DATA_DIRECTORY + TERRORISM_DATA, usecols=[1, 2, 3])\n",
    "print(terrorism_raw.shape[0], 'lines')\n",
    "terrorism_raw.head()"
   ]
  },
  {
   "cell_type": "code",
   "execution_count": 122,
   "metadata": {},
   "outputs": [
    {
     "name": "stdout",
     "output_type": "stream",
     "text": [
      "4105 lines\n"
     ]
    },
    {
     "data": {
      "text/html": [
       "<div>\n",
       "<style scoped>\n",
       "    .dataframe tbody tr th:only-of-type {\n",
       "        vertical-align: middle;\n",
       "    }\n",
       "\n",
       "    .dataframe tbody tr th {\n",
       "        vertical-align: top;\n",
       "    }\n",
       "\n",
       "    .dataframe thead th {\n",
       "        text-align: right;\n",
       "    }\n",
       "</style>\n",
       "<table border=\"1\" class=\"dataframe\">\n",
       "  <thead>\n",
       "    <tr style=\"text-align: right;\">\n",
       "      <th></th>\n",
       "      <th>article</th>\n",
       "      <th>date</th>\n",
       "      <th>views</th>\n",
       "    </tr>\n",
       "  </thead>\n",
       "  <tbody>\n",
       "    <tr>\n",
       "      <th>1</th>\n",
       "      <td>abu_sayyaf</td>\n",
       "      <td>2008-02</td>\n",
       "      <td>9533.0</td>\n",
       "    </tr>\n",
       "    <tr>\n",
       "      <th>2</th>\n",
       "      <td>abu_sayyaf</td>\n",
       "      <td>2008-03</td>\n",
       "      <td>11594.0</td>\n",
       "    </tr>\n",
       "    <tr>\n",
       "      <th>3</th>\n",
       "      <td>abu_sayyaf</td>\n",
       "      <td>2008-04</td>\n",
       "      <td>10507.0</td>\n",
       "    </tr>\n",
       "    <tr>\n",
       "      <th>4</th>\n",
       "      <td>abu_sayyaf</td>\n",
       "      <td>2008-05</td>\n",
       "      <td>10789.0</td>\n",
       "    </tr>\n",
       "    <tr>\n",
       "      <th>5</th>\n",
       "      <td>abu_sayyaf</td>\n",
       "      <td>2008-06</td>\n",
       "      <td>15748.0</td>\n",
       "    </tr>\n",
       "  </tbody>\n",
       "</table>\n",
       "</div>"
      ],
      "text/plain": [
       "      article     date    views\n",
       "1  abu_sayyaf  2008-02   9533.0\n",
       "2  abu_sayyaf  2008-03  11594.0\n",
       "3  abu_sayyaf  2008-04  10507.0\n",
       "4  abu_sayyaf  2008-05  10789.0\n",
       "5  abu_sayyaf  2008-06  15748.0"
      ]
     },
     "execution_count": 122,
     "metadata": {},
     "output_type": "execute_result"
    }
   ],
   "source": [
    "#We handle the NaN values \n",
    "terrorism = terrorism_raw[~terrorism_raw.views.isna() & terrorism_raw.views != 0]\n",
    "print(terrorism.shape[0], 'lines')\n",
    "terrorism.head()"
   ]
  },
  {
   "cell_type": "markdown",
   "metadata": {},
   "source": [
    "## Question 1 : Is there a persistant chilling effect ? "
   ]
  },
  {
   "cell_type": "code",
   "execution_count": 123,
   "metadata": {},
   "outputs": [],
   "source": [
    "#Now we sum the article viwes of the same month\n",
    "terror_month = terrorism.groupby([\"date\"]).sum().reset_index()\n",
    "#convert date to datetime\n",
    "terror_month['date']= pd.to_datetime(terror_month['date'])\n",
    "terror_month[\"num\"] = np.arange(1, len(terror_month)+1)"
   ]
  },
  {
   "cell_type": "code",
   "execution_count": 108,
   "metadata": {},
   "outputs": [],
   "source": [
    "#create subsets, pre & post June 2013\n",
    "data_pre = terror_month[terror_month.date <= \"2013-06\"]\n",
    "data_post = terror_month[terror_month.date >= \"2013-06\"]"
   ]
  },
  {
   "cell_type": "code",
   "execution_count": 124,
   "metadata": {},
   "outputs": [
    {
     "data": {
      "image/png": "[encoded data removed]",
      "text/plain": [
       "<Figure size 576x324 with 1 Axes>"
      ]
     },
     "metadata": {
      "needs_background": "light"
     },
     "output_type": "display_data"
    }
   ],
   "source": [
    "#graphic style\n",
    "color1 = 'black'\n",
    "color2 = 'grey'\n",
    "fig, ax1 = plt.subplots(figsize=(8,4.5))\n",
    "ax1.set_xlabel(\"Time (Months)\")\n",
    "ax1.set_ylabel(\"Total Views\")\n",
    "plt.ylim(0, 5000000)\n",
    "\n",
    "#scatter the views as a function of the month number\n",
    "ax1.scatter(terror_month.index, terror_month.views, color=color1, label=\"Total Article Views (By Month)\")\n",
    "\n",
    "#perform linear regression\n",
    "#we fit a regressor for each of the post and pre June-2013 subsets\n",
    "\n",
    "#trend pre-june\n",
    "trend_pre = LinearRegression()\n",
    "x_pre = data_pre[[\"num\"]]\n",
    "y_pre = data_pre[[\"views\"]]\n",
    "trend_pre.fit(x_pre, y_pre)\n",
    "Y_pre = trend_pre.predict(x_pre)\n",
    "p2 = plt.plot(x_pre, Y_pre, label=\"Trend Pre-June 2013\", color=color1, linewidth=4)\n",
    "\n",
    "#trend post-june\n",
    "trend_post = LinearRegression()\n",
    "x_post = data_post[[\"num\"]]\n",
    "y_post = data_post[[\"views\"]]\n",
    "trend_post.fit(x_post, y_post)\n",
    "Y_post = trend_post.predict(x_post)\n",
    "p3 = plt.plot(x_post, Y_post, label=\"Trend Post-June 2013\", color=color2, linewidth=4)\n",
    "\n",
    "#Legend adjustments\n",
    "plt.legend(loc = \"lower center\", bbox_to_anchor=(0.5, -0.45))\n",
    "#plt.title(\"Figure 3. Pre and Post June 2013 Article View Trends (Outliers Excluded). The sudden drop in views and trend shift—from increasing monthly views over time to decreasing after June 2013—is consistent with a significant and long-term chilling effect.\",y=-0.55)\n",
    "plt.show()"
   ]
  },
  {
   "cell_type": "markdown",
   "metadata": {},
   "source": [
    "## Question 2 : other scandals ?"
   ]
  },
  {
   "cell_type": "markdown",
   "metadata": {},
   "source": [
    "Potential other scandals we can highlight :\n",
    "\n",
    "[2013 : Chelsea Manning sentenced to 35 years in prison](https://en.wikipedia.org/wiki/United_States_v._Manning)\n",
    "\n",
    "[2017 : Vault 7](https://en.wikipedia.org/wiki/Vault_7)\n",
    "\n",
    "[2018 : Cambridge analytica scandal](https://en.wikipedia.org/wiki/Facebook%E2%80%93Cambridge_Analytica_data_scandal)\n",
    "\n",
    "[2019 : “the great hack” documentary on Netflix](https://en.wikipedia.org/wiki/The_Great_Hack#Reception)\n",
    "\n",
    "[2019 : Julian assange arrest](https://en.wikipedia.org/wiki/Julian_Assange)"
   ]
  },
  {
   "cell_type": "code",
   "execution_count": null,
   "metadata": {},
   "outputs": [],
   "source": []
  }
 ],
 "metadata": {
  "kernelspec": {
   "display_name": "Python 3",
   "language": "python",
   "name": "python3"
  },
  "language_info": {
   "codemirror_mode": {
    "name": "ipython",
    "version": 3
   },
   "file_extension": ".py",
   "mimetype": "text/x-python",
   "name": "python",
   "nbconvert_exporter": "python",
   "pygments_lexer": "ipython3",
   "version": "3.8.0"
  }
 },
 "nbformat": 4,
 "nbformat_minor": 4
}
